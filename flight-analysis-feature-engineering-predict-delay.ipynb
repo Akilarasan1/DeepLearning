{
 "cells": [
  {
   "cell_type": "code",
   "execution_count": 1,
   "id": "5418a896",
   "metadata": {
    "_cell_guid": "b1076dfc-b9ad-4769-8c92-a6c4dae69d19",
    "_uuid": "8f2839f25d086af736a60e9eeb907d3b93b6e0e5",
    "execution": {
     "iopub.execute_input": "2022-09-27T04:48:11.900298Z",
     "iopub.status.busy": "2022-09-27T04:48:11.899768Z",
     "iopub.status.idle": "2022-09-27T04:48:17.992568Z",
     "shell.execute_reply": "2022-09-27T04:48:17.990628Z"
    },
    "papermill": {
     "duration": 6.109337,
     "end_time": "2022-09-27T04:48:17.995803",
     "exception": false,
     "start_time": "2022-09-27T04:48:11.886466",
     "status": "completed"
    },
    "tags": []
   },
   "outputs": [],
   "source": [
    "import numpy as np \n",
    "import pandas as pd \n",
    "import matplotlib.pyplot as plt\n",
    "import seaborn as sns\n",
    "from sklearn import preprocessing\n",
    "from sklearn.model_selection import train_test_split\n",
    "from sklearn.tree import DecisionTreeClassifier\n",
    "from sklearn.ensemble import RandomForestClassifier\n",
    "from sklearn.ensemble import GradientBoostingClassifier\n",
    "from sklearn.ensemble import VotingClassifier\n",
    "from sklearn.metrics import confusion_matrix\n",
    "import keras\n",
    "import os\n",
    "for dirname, _, filenames in os.walk('/kaggle/input'):\n",
    "    for filename in filenames:\n",
    "        print(os.path.join(dirname, filename))"
   ]
  },
  {
   "cell_type": "raw",
   "id": "24b33e77",
   "metadata": {},
   "source": [
    "id: Identifier for the flight data\n",
    "\n",
    "Airline: The airline's abbreviation\n",
    "\n",
    "Flight: Flight number\n",
    "\n",
    "AirportFrom: Departure airport\n",
    "\n",
    "AirportTo: Arrival airport\n",
    "\n",
    "DayOfWeek: The day of the week (as a number) when the flight occurs\n",
    "\n",
    "Time: The time the flight is scheduled\n",
    "\n",
    "Length: Flight duration in minutes\n",
    "\n",
    "Delay: A binary variable indicating if the flight was delayed (1 for delayed, 0 for not delayed)"
   ]
  },
  {
   "cell_type": "markdown",
   "id": "ada6f03a",
   "metadata": {
    "papermill": {
     "duration": 0.006996,
     "end_time": "2022-09-27T04:48:18.010982",
     "exception": false,
     "start_time": "2022-09-27T04:48:18.003986",
     "status": "completed"
    },
    "tags": []
   },
   "source": [
    "# Preparing data"
   ]
  },
  {
   "cell_type": "code",
   "execution_count": 2,
   "id": "08ec72cd",
   "metadata": {
    "execution": {
     "iopub.execute_input": "2022-09-27T04:48:18.027661Z",
     "iopub.status.busy": "2022-09-27T04:48:18.026311Z",
     "iopub.status.idle": "2022-09-27T04:48:18.669674Z",
     "shell.execute_reply": "2022-09-27T04:48:18.668595Z"
    },
    "papermill": {
     "duration": 0.654109,
     "end_time": "2022-09-27T04:48:18.672068",
     "exception": false,
     "start_time": "2022-09-27T04:48:18.017959",
     "status": "completed"
    },
    "tags": []
   },
   "outputs": [
    {
     "data": {
      "text/html": [
       "<div>\n",
       "<style scoped>\n",
       "    .dataframe tbody tr th:only-of-type {\n",
       "        vertical-align: middle;\n",
       "    }\n",
       "\n",
       "    .dataframe tbody tr th {\n",
       "        vertical-align: top;\n",
       "    }\n",
       "\n",
       "    .dataframe thead th {\n",
       "        text-align: right;\n",
       "    }\n",
       "</style>\n",
       "<table border=\"1\" class=\"dataframe\">\n",
       "  <thead>\n",
       "    <tr style=\"text-align: right;\">\n",
       "      <th></th>\n",
       "      <th>id</th>\n",
       "      <th>Airline</th>\n",
       "      <th>Flight</th>\n",
       "      <th>AirportFrom</th>\n",
       "      <th>AirportTo</th>\n",
       "      <th>DayOfWeek</th>\n",
       "      <th>Time</th>\n",
       "      <th>Length</th>\n",
       "      <th>Delay</th>\n",
       "    </tr>\n",
       "  </thead>\n",
       "  <tbody>\n",
       "    <tr>\n",
       "      <th>0</th>\n",
       "      <td>1</td>\n",
       "      <td>CO</td>\n",
       "      <td>269</td>\n",
       "      <td>SFO</td>\n",
       "      <td>IAH</td>\n",
       "      <td>3</td>\n",
       "      <td>15</td>\n",
       "      <td>205</td>\n",
       "      <td>1</td>\n",
       "    </tr>\n",
       "    <tr>\n",
       "      <th>1</th>\n",
       "      <td>2</td>\n",
       "      <td>US</td>\n",
       "      <td>1558</td>\n",
       "      <td>PHX</td>\n",
       "      <td>CLT</td>\n",
       "      <td>3</td>\n",
       "      <td>15</td>\n",
       "      <td>222</td>\n",
       "      <td>1</td>\n",
       "    </tr>\n",
       "    <tr>\n",
       "      <th>2</th>\n",
       "      <td>3</td>\n",
       "      <td>AA</td>\n",
       "      <td>2400</td>\n",
       "      <td>LAX</td>\n",
       "      <td>DFW</td>\n",
       "      <td>3</td>\n",
       "      <td>20</td>\n",
       "      <td>165</td>\n",
       "      <td>1</td>\n",
       "    </tr>\n",
       "    <tr>\n",
       "      <th>3</th>\n",
       "      <td>4</td>\n",
       "      <td>AA</td>\n",
       "      <td>2466</td>\n",
       "      <td>SFO</td>\n",
       "      <td>DFW</td>\n",
       "      <td>3</td>\n",
       "      <td>20</td>\n",
       "      <td>195</td>\n",
       "      <td>1</td>\n",
       "    </tr>\n",
       "    <tr>\n",
       "      <th>4</th>\n",
       "      <td>5</td>\n",
       "      <td>AS</td>\n",
       "      <td>108</td>\n",
       "      <td>ANC</td>\n",
       "      <td>SEA</td>\n",
       "      <td>3</td>\n",
       "      <td>30</td>\n",
       "      <td>202</td>\n",
       "      <td>0</td>\n",
       "    </tr>\n",
       "    <tr>\n",
       "      <th>...</th>\n",
       "      <td>...</td>\n",
       "      <td>...</td>\n",
       "      <td>...</td>\n",
       "      <td>...</td>\n",
       "      <td>...</td>\n",
       "      <td>...</td>\n",
       "      <td>...</td>\n",
       "      <td>...</td>\n",
       "      <td>...</td>\n",
       "    </tr>\n",
       "    <tr>\n",
       "      <th>539378</th>\n",
       "      <td>539379</td>\n",
       "      <td>CO</td>\n",
       "      <td>178</td>\n",
       "      <td>OGG</td>\n",
       "      <td>SNA</td>\n",
       "      <td>5</td>\n",
       "      <td>1439</td>\n",
       "      <td>326</td>\n",
       "      <td>0</td>\n",
       "    </tr>\n",
       "    <tr>\n",
       "      <th>539379</th>\n",
       "      <td>539380</td>\n",
       "      <td>FL</td>\n",
       "      <td>398</td>\n",
       "      <td>SEA</td>\n",
       "      <td>ATL</td>\n",
       "      <td>5</td>\n",
       "      <td>1439</td>\n",
       "      <td>305</td>\n",
       "      <td>0</td>\n",
       "    </tr>\n",
       "    <tr>\n",
       "      <th>539380</th>\n",
       "      <td>539381</td>\n",
       "      <td>FL</td>\n",
       "      <td>609</td>\n",
       "      <td>SFO</td>\n",
       "      <td>MKE</td>\n",
       "      <td>5</td>\n",
       "      <td>1439</td>\n",
       "      <td>255</td>\n",
       "      <td>0</td>\n",
       "    </tr>\n",
       "    <tr>\n",
       "      <th>539381</th>\n",
       "      <td>539382</td>\n",
       "      <td>UA</td>\n",
       "      <td>78</td>\n",
       "      <td>HNL</td>\n",
       "      <td>SFO</td>\n",
       "      <td>5</td>\n",
       "      <td>1439</td>\n",
       "      <td>313</td>\n",
       "      <td>1</td>\n",
       "    </tr>\n",
       "    <tr>\n",
       "      <th>539382</th>\n",
       "      <td>539383</td>\n",
       "      <td>US</td>\n",
       "      <td>1442</td>\n",
       "      <td>LAX</td>\n",
       "      <td>PHL</td>\n",
       "      <td>5</td>\n",
       "      <td>1439</td>\n",
       "      <td>301</td>\n",
       "      <td>1</td>\n",
       "    </tr>\n",
       "  </tbody>\n",
       "</table>\n",
       "<p>539383 rows × 9 columns</p>\n",
       "</div>"
      ],
      "text/plain": [
       "            id Airline  Flight AirportFrom AirportTo  DayOfWeek  Time  Length  \\\n",
       "0            1      CO     269         SFO       IAH          3    15     205   \n",
       "1            2      US    1558         PHX       CLT          3    15     222   \n",
       "2            3      AA    2400         LAX       DFW          3    20     165   \n",
       "3            4      AA    2466         SFO       DFW          3    20     195   \n",
       "4            5      AS     108         ANC       SEA          3    30     202   \n",
       "...        ...     ...     ...         ...       ...        ...   ...     ...   \n",
       "539378  539379      CO     178         OGG       SNA          5  1439     326   \n",
       "539379  539380      FL     398         SEA       ATL          5  1439     305   \n",
       "539380  539381      FL     609         SFO       MKE          5  1439     255   \n",
       "539381  539382      UA      78         HNL       SFO          5  1439     313   \n",
       "539382  539383      US    1442         LAX       PHL          5  1439     301   \n",
       "\n",
       "        Delay  \n",
       "0           1  \n",
       "1           1  \n",
       "2           1  \n",
       "3           1  \n",
       "4           0  \n",
       "...       ...  \n",
       "539378      0  \n",
       "539379      0  \n",
       "539380      0  \n",
       "539381      1  \n",
       "539382      1  \n",
       "\n",
       "[539383 rows x 9 columns]"
      ]
     },
     "execution_count": 2,
     "metadata": {},
     "output_type": "execute_result"
    }
   ],
   "source": [
    "df = pd.read_csv('Airlines.csv')\n",
    "df"
   ]
  },
  {
   "cell_type": "code",
   "execution_count": 3,
   "id": "16b16ff5",
   "metadata": {},
   "outputs": [
    {
     "data": {
      "text/plain": [
       "Index(['id', 'Airline', 'Flight', 'AirportFrom', 'AirportTo', 'DayOfWeek',\n",
       "       'Time', 'Length', 'Delay'],\n",
       "      dtype='object')"
      ]
     },
     "execution_count": 3,
     "metadata": {},
     "output_type": "execute_result"
    }
   ],
   "source": [
    "df.columns"
   ]
  },
  {
   "cell_type": "code",
   "execution_count": 4,
   "id": "79211610",
   "metadata": {
    "execution": {
     "iopub.execute_input": "2022-09-27T04:48:18.693322Z",
     "iopub.status.busy": "2022-09-27T04:48:18.691132Z",
     "iopub.status.idle": "2022-09-27T04:48:18.762300Z",
     "shell.execute_reply": "2022-09-27T04:48:18.761103Z"
    },
    "papermill": {
     "duration": 0.084378,
     "end_time": "2022-09-27T04:48:18.764983",
     "exception": false,
     "start_time": "2022-09-27T04:48:18.680605",
     "status": "completed"
    },
    "tags": []
   },
   "outputs": [
    {
     "data": {
      "text/plain": [
       "id             0\n",
       "Airline        0\n",
       "Flight         0\n",
       "AirportFrom    0\n",
       "AirportTo      0\n",
       "DayOfWeek      0\n",
       "Time           0\n",
       "Length         0\n",
       "Delay          0\n",
       "dtype: int64"
      ]
     },
     "execution_count": 4,
     "metadata": {},
     "output_type": "execute_result"
    }
   ],
   "source": [
    "df.isnull().sum()"
   ]
  },
  {
   "cell_type": "code",
   "execution_count": 5,
   "id": "a99de6b9",
   "metadata": {
    "execution": {
     "iopub.execute_input": "2022-09-27T04:48:18.781784Z",
     "iopub.status.busy": "2022-09-27T04:48:18.781458Z",
     "iopub.status.idle": "2022-09-27T04:48:18.789664Z",
     "shell.execute_reply": "2022-09-27T04:48:18.788712Z"
    },
    "papermill": {
     "duration": 0.01906,
     "end_time": "2022-09-27T04:48:18.791717",
     "exception": false,
     "start_time": "2022-09-27T04:48:18.772657",
     "status": "completed"
    },
    "tags": []
   },
   "outputs": [
    {
     "data": {
      "text/plain": [
       "id              int64\n",
       "Airline        object\n",
       "Flight          int64\n",
       "AirportFrom    object\n",
       "AirportTo      object\n",
       "DayOfWeek       int64\n",
       "Time            int64\n",
       "Length          int64\n",
       "Delay           int64\n",
       "dtype: object"
      ]
     },
     "execution_count": 5,
     "metadata": {},
     "output_type": "execute_result"
    }
   ],
   "source": [
    "df.dtypes"
   ]
  },
  {
   "cell_type": "code",
   "execution_count": 6,
   "id": "2271a507",
   "metadata": {
    "execution": {
     "iopub.execute_input": "2022-09-27T04:48:18.808503Z",
     "iopub.status.busy": "2022-09-27T04:48:18.807751Z",
     "iopub.status.idle": "2022-09-27T04:48:18.848244Z",
     "shell.execute_reply": "2022-09-27T04:48:18.847097Z"
    },
    "papermill": {
     "duration": 0.051827,
     "end_time": "2022-09-27T04:48:18.851017",
     "exception": false,
     "start_time": "2022-09-27T04:48:18.799190",
     "status": "completed"
    },
    "tags": []
   },
   "outputs": [],
   "source": [
    "df.drop(columns=['id'], inplace=True)"
   ]
  },
  {
   "cell_type": "code",
   "execution_count": 7,
   "id": "33c2ad3e",
   "metadata": {},
   "outputs": [
    {
     "data": {
      "text/plain": [
       "Airline\n",
       "WN    94097\n",
       "DL    60940\n",
       "OO    50254\n",
       "AA    45656\n",
       "MQ    36605\n",
       "US    34500\n",
       "XE    31126\n",
       "EV    27983\n",
       "UA    27619\n",
       "CO    21118\n",
       "FL    20827\n",
       "9E    20686\n",
       "B6    18112\n",
       "YV    13725\n",
       "OH    12630\n",
       "AS    11471\n",
       "F9     6456\n",
       "HA     5578\n",
       "Name: count, dtype: int64"
      ]
     },
     "execution_count": 7,
     "metadata": {},
     "output_type": "execute_result"
    }
   ],
   "source": [
    "df1 = df['Airline'].value_counts()\n",
    "df1"
   ]
  },
  {
   "cell_type": "code",
   "execution_count": 8,
   "id": "1c5d7575",
   "metadata": {},
   "outputs": [
    {
     "data": {
      "text/plain": [
       "18"
      ]
     },
     "execution_count": 8,
     "metadata": {},
     "output_type": "execute_result"
    }
   ],
   "source": [
    "len(df1)"
   ]
  },
  {
   "cell_type": "code",
   "execution_count": 9,
   "id": "d829d5aa",
   "metadata": {},
   "outputs": [],
   "source": [
    "df2=df['Flight'].value_counts()"
   ]
  },
  {
   "cell_type": "code",
   "execution_count": 10,
   "id": "a04a0b63",
   "metadata": {},
   "outputs": [
    {
     "data": {
      "text/plain": [
       "6585"
      ]
     },
     "execution_count": 10,
     "metadata": {},
     "output_type": "execute_result"
    }
   ],
   "source": [
    "len(df2)"
   ]
  },
  {
   "cell_type": "code",
   "execution_count": 11,
   "id": "5f37433b",
   "metadata": {
    "execution": {
     "iopub.execute_input": "2022-09-27T04:48:18.870257Z",
     "iopub.status.busy": "2022-09-27T04:48:18.869903Z",
     "iopub.status.idle": "2022-09-27T04:48:18.993807Z",
     "shell.execute_reply": "2022-09-27T04:48:18.992729Z"
    },
    "papermill": {
     "duration": 0.140713,
     "end_time": "2022-09-27T04:48:19.000768",
     "exception": false,
     "start_time": "2022-09-27T04:48:18.860055",
     "status": "completed"
    },
    "tags": []
   },
   "outputs": [
    {
     "name": "stdout",
     "output_type": "stream",
     "text": [
      "Airline\n",
      "WN    94097\n",
      "DL    60940\n",
      "OO    50254\n",
      "AA    45656\n",
      "MQ    36605\n",
      "US    34500\n",
      "XE    31126\n",
      "EV    27983\n",
      "UA    27619\n",
      "CO    21118\n",
      "FL    20827\n",
      "9E    20686\n",
      "B6    18112\n",
      "YV    13725\n",
      "OH    12630\n",
      "AS    11471\n",
      "F9     6456\n",
      "HA     5578\n",
      "Name: count, dtype: int64 \n",
      "\n",
      "********************************************\n",
      "\n",
      "Flight\n",
      "16      420\n",
      "5       407\n",
      "9       401\n",
      "8       396\n",
      "62      364\n",
      "       ... \n",
      "7814      1\n",
      "3573      1\n",
      "4385      1\n",
      "3292      1\n",
      "6969      1\n",
      "Name: count, Length: 6585, dtype: int64 \n",
      "\n",
      "********************************************\n",
      "\n",
      "AirportFrom\n",
      "ATL    34449\n",
      "ORD    24822\n",
      "DFW    22154\n",
      "DEN    19843\n",
      "LAX    16657\n",
      "       ...  \n",
      "MMH       16\n",
      "SJT       15\n",
      "GUM       10\n",
      "ADK        9\n",
      "ABR        2\n",
      "Name: count, Length: 293, dtype: int64 \n",
      "\n",
      "********************************************\n",
      "\n",
      "AirportTo\n",
      "ATL    34440\n",
      "ORD    24871\n",
      "DFW    22153\n",
      "DEN    19848\n",
      "LAX    16656\n",
      "       ...  \n",
      "MMH       16\n",
      "SJT       15\n",
      "GUM       10\n",
      "ADK        9\n",
      "ABR        2\n",
      "Name: count, Length: 293, dtype: int64 \n",
      "\n",
      "********************************************\n",
      "\n",
      "DayOfWeek\n",
      "4    91445\n",
      "3    89746\n",
      "5    85248\n",
      "1    72769\n",
      "2    71340\n",
      "7    69879\n",
      "6    58956\n",
      "Name: count, dtype: int64 \n",
      "\n",
      "********************************************\n",
      "\n",
      "Time\n",
      "360     10784\n",
      "420      6644\n",
      "390      4279\n",
      "480      4058\n",
      "450      3804\n",
      "        ...  \n",
      "1397        1\n",
      "44          1\n",
      "1387        1\n",
      "359         1\n",
      "37          1\n",
      "Name: count, Length: 1131, dtype: int64 \n",
      "\n",
      "********************************************\n",
      "\n",
      "Length\n",
      "80     13339\n",
      "70     13086\n",
      "65     11894\n",
      "85     11840\n",
      "75     11813\n",
      "       ...  \n",
      "481        2\n",
      "418        2\n",
      "457        2\n",
      "417        2\n",
      "23         1\n",
      "Name: count, Length: 426, dtype: int64 \n",
      "\n",
      "********************************************\n",
      "\n",
      "Delay\n",
      "0    299119\n",
      "1    240264\n",
      "Name: count, dtype: int64 \n",
      "\n",
      "********************************************\n",
      "\n"
     ]
    }
   ],
   "source": [
    "cols = df.columns\n",
    "for i in range(0,len(cols)):\n",
    "    print(df[cols[i]].value_counts(),'\\n')\n",
    "    print('********************************************\\n')"
   ]
  },
  {
   "cell_type": "code",
   "execution_count": 12,
   "id": "4500e63a",
   "metadata": {
    "execution": {
     "iopub.execute_input": "2022-09-27T04:48:19.020395Z",
     "iopub.status.busy": "2022-09-27T04:48:19.020015Z",
     "iopub.status.idle": "2022-09-27T04:48:19.365618Z",
     "shell.execute_reply": "2022-09-27T04:48:19.364630Z"
    },
    "papermill": {
     "duration": 0.357688,
     "end_time": "2022-09-27T04:48:19.368000",
     "exception": false,
     "start_time": "2022-09-27T04:48:19.010312",
     "status": "completed"
    },
    "tags": []
   },
   "outputs": [],
   "source": [
    "le = preprocessing.LabelEncoder()\n",
    "\n",
    "df['Airline'] = le.fit_transform(df['Airline'])\n",
    "df['AirportFrom'] = le.fit_transform(df['AirportFrom'])\n",
    "df['AirportTo'] = le.fit_transform(df['AirportTo'])"
   ]
  },
  {
   "cell_type": "code",
   "execution_count": 13,
   "id": "e407bdd5",
   "metadata": {
    "execution": {
     "iopub.execute_input": "2022-09-27T04:48:19.385510Z",
     "iopub.status.busy": "2022-09-27T04:48:19.385217Z",
     "iopub.status.idle": "2022-09-27T04:48:19.398730Z",
     "shell.execute_reply": "2022-09-27T04:48:19.397715Z"
    },
    "papermill": {
     "duration": 0.024102,
     "end_time": "2022-09-27T04:48:19.400784",
     "exception": false,
     "start_time": "2022-09-27T04:48:19.376682",
     "status": "completed"
    },
    "tags": []
   },
   "outputs": [
    {
     "data": {
      "text/html": [
       "<div>\n",
       "<style scoped>\n",
       "    .dataframe tbody tr th:only-of-type {\n",
       "        vertical-align: middle;\n",
       "    }\n",
       "\n",
       "    .dataframe tbody tr th {\n",
       "        vertical-align: top;\n",
       "    }\n",
       "\n",
       "    .dataframe thead th {\n",
       "        text-align: right;\n",
       "    }\n",
       "</style>\n",
       "<table border=\"1\" class=\"dataframe\">\n",
       "  <thead>\n",
       "    <tr style=\"text-align: right;\">\n",
       "      <th></th>\n",
       "      <th>Airline</th>\n",
       "      <th>Flight</th>\n",
       "      <th>AirportFrom</th>\n",
       "      <th>AirportTo</th>\n",
       "      <th>DayOfWeek</th>\n",
       "      <th>Time</th>\n",
       "      <th>Length</th>\n",
       "      <th>Delay</th>\n",
       "    </tr>\n",
       "  </thead>\n",
       "  <tbody>\n",
       "    <tr>\n",
       "      <th>0</th>\n",
       "      <td>4</td>\n",
       "      <td>269</td>\n",
       "      <td>253</td>\n",
       "      <td>135</td>\n",
       "      <td>3</td>\n",
       "      <td>15</td>\n",
       "      <td>205</td>\n",
       "      <td>1</td>\n",
       "    </tr>\n",
       "    <tr>\n",
       "      <th>1</th>\n",
       "      <td>14</td>\n",
       "      <td>1558</td>\n",
       "      <td>217</td>\n",
       "      <td>60</td>\n",
       "      <td>3</td>\n",
       "      <td>15</td>\n",
       "      <td>222</td>\n",
       "      <td>1</td>\n",
       "    </tr>\n",
       "    <tr>\n",
       "      <th>2</th>\n",
       "      <td>1</td>\n",
       "      <td>2400</td>\n",
       "      <td>154</td>\n",
       "      <td>80</td>\n",
       "      <td>3</td>\n",
       "      <td>20</td>\n",
       "      <td>165</td>\n",
       "      <td>1</td>\n",
       "    </tr>\n",
       "    <tr>\n",
       "      <th>3</th>\n",
       "      <td>1</td>\n",
       "      <td>2466</td>\n",
       "      <td>253</td>\n",
       "      <td>80</td>\n",
       "      <td>3</td>\n",
       "      <td>20</td>\n",
       "      <td>195</td>\n",
       "      <td>1</td>\n",
       "    </tr>\n",
       "    <tr>\n",
       "      <th>4</th>\n",
       "      <td>2</td>\n",
       "      <td>108</td>\n",
       "      <td>14</td>\n",
       "      <td>252</td>\n",
       "      <td>3</td>\n",
       "      <td>30</td>\n",
       "      <td>202</td>\n",
       "      <td>0</td>\n",
       "    </tr>\n",
       "    <tr>\n",
       "      <th>5</th>\n",
       "      <td>4</td>\n",
       "      <td>1094</td>\n",
       "      <td>154</td>\n",
       "      <td>135</td>\n",
       "      <td>3</td>\n",
       "      <td>30</td>\n",
       "      <td>181</td>\n",
       "      <td>1</td>\n",
       "    </tr>\n",
       "    <tr>\n",
       "      <th>6</th>\n",
       "      <td>5</td>\n",
       "      <td>1768</td>\n",
       "      <td>154</td>\n",
       "      <td>197</td>\n",
       "      <td>3</td>\n",
       "      <td>30</td>\n",
       "      <td>220</td>\n",
       "      <td>0</td>\n",
       "    </tr>\n",
       "    <tr>\n",
       "      <th>7</th>\n",
       "      <td>5</td>\n",
       "      <td>2722</td>\n",
       "      <td>217</td>\n",
       "      <td>85</td>\n",
       "      <td>3</td>\n",
       "      <td>30</td>\n",
       "      <td>228</td>\n",
       "      <td>0</td>\n",
       "    </tr>\n",
       "    <tr>\n",
       "      <th>8</th>\n",
       "      <td>5</td>\n",
       "      <td>2606</td>\n",
       "      <td>253</td>\n",
       "      <td>197</td>\n",
       "      <td>3</td>\n",
       "      <td>35</td>\n",
       "      <td>216</td>\n",
       "      <td>1</td>\n",
       "    </tr>\n",
       "    <tr>\n",
       "      <th>9</th>\n",
       "      <td>1</td>\n",
       "      <td>2538</td>\n",
       "      <td>153</td>\n",
       "      <td>208</td>\n",
       "      <td>3</td>\n",
       "      <td>40</td>\n",
       "      <td>200</td>\n",
       "      <td>1</td>\n",
       "    </tr>\n",
       "    <tr>\n",
       "      <th>10</th>\n",
       "      <td>4</td>\n",
       "      <td>223</td>\n",
       "      <td>14</td>\n",
       "      <td>252</td>\n",
       "      <td>3</td>\n",
       "      <td>49</td>\n",
       "      <td>201</td>\n",
       "      <td>1</td>\n",
       "    </tr>\n",
       "    <tr>\n",
       "      <th>11</th>\n",
       "      <td>5</td>\n",
       "      <td>1646</td>\n",
       "      <td>217</td>\n",
       "      <td>16</td>\n",
       "      <td>3</td>\n",
       "      <td>50</td>\n",
       "      <td>212</td>\n",
       "      <td>1</td>\n",
       "    </tr>\n",
       "    <tr>\n",
       "      <th>12</th>\n",
       "      <td>5</td>\n",
       "      <td>2055</td>\n",
       "      <td>261</td>\n",
       "      <td>16</td>\n",
       "      <td>3</td>\n",
       "      <td>50</td>\n",
       "      <td>210</td>\n",
       "      <td>0</td>\n",
       "    </tr>\n",
       "    <tr>\n",
       "      <th>13</th>\n",
       "      <td>1</td>\n",
       "      <td>2408</td>\n",
       "      <td>154</td>\n",
       "      <td>80</td>\n",
       "      <td>3</td>\n",
       "      <td>55</td>\n",
       "      <td>170</td>\n",
       "      <td>0</td>\n",
       "    </tr>\n",
       "    <tr>\n",
       "      <th>14</th>\n",
       "      <td>2</td>\n",
       "      <td>132</td>\n",
       "      <td>14</td>\n",
       "      <td>214</td>\n",
       "      <td>3</td>\n",
       "      <td>55</td>\n",
       "      <td>215</td>\n",
       "      <td>0</td>\n",
       "    </tr>\n",
       "    <tr>\n",
       "      <th>15</th>\n",
       "      <td>14</td>\n",
       "      <td>498</td>\n",
       "      <td>79</td>\n",
       "      <td>60</td>\n",
       "      <td>3</td>\n",
       "      <td>55</td>\n",
       "      <td>179</td>\n",
       "      <td>0</td>\n",
       "    </tr>\n",
       "    <tr>\n",
       "      <th>16</th>\n",
       "      <td>3</td>\n",
       "      <td>98</td>\n",
       "      <td>79</td>\n",
       "      <td>148</td>\n",
       "      <td>3</td>\n",
       "      <td>59</td>\n",
       "      <td>213</td>\n",
       "      <td>0</td>\n",
       "    </tr>\n",
       "    <tr>\n",
       "      <th>17</th>\n",
       "      <td>4</td>\n",
       "      <td>1496</td>\n",
       "      <td>153</td>\n",
       "      <td>135</td>\n",
       "      <td>3</td>\n",
       "      <td>60</td>\n",
       "      <td>162</td>\n",
       "      <td>0</td>\n",
       "    </tr>\n",
       "    <tr>\n",
       "      <th>18</th>\n",
       "      <td>5</td>\n",
       "      <td>1450</td>\n",
       "      <td>153</td>\n",
       "      <td>197</td>\n",
       "      <td>3</td>\n",
       "      <td>60</td>\n",
       "      <td>181</td>\n",
       "      <td>0</td>\n",
       "    </tr>\n",
       "    <tr>\n",
       "      <th>19</th>\n",
       "      <td>4</td>\n",
       "      <td>507</td>\n",
       "      <td>207</td>\n",
       "      <td>135</td>\n",
       "      <td>3</td>\n",
       "      <td>75</td>\n",
       "      <td>167</td>\n",
       "      <td>0</td>\n",
       "    </tr>\n",
       "  </tbody>\n",
       "</table>\n",
       "</div>"
      ],
      "text/plain": [
       "    Airline  Flight  AirportFrom  AirportTo  DayOfWeek  Time  Length  Delay\n",
       "0         4     269          253        135          3    15     205      1\n",
       "1        14    1558          217         60          3    15     222      1\n",
       "2         1    2400          154         80          3    20     165      1\n",
       "3         1    2466          253         80          3    20     195      1\n",
       "4         2     108           14        252          3    30     202      0\n",
       "5         4    1094          154        135          3    30     181      1\n",
       "6         5    1768          154        197          3    30     220      0\n",
       "7         5    2722          217         85          3    30     228      0\n",
       "8         5    2606          253        197          3    35     216      1\n",
       "9         1    2538          153        208          3    40     200      1\n",
       "10        4     223           14        252          3    49     201      1\n",
       "11        5    1646          217         16          3    50     212      1\n",
       "12        5    2055          261         16          3    50     210      0\n",
       "13        1    2408          154         80          3    55     170      0\n",
       "14        2     132           14        214          3    55     215      0\n",
       "15       14     498           79         60          3    55     179      0\n",
       "16        3      98           79        148          3    59     213      0\n",
       "17        4    1496          153        135          3    60     162      0\n",
       "18        5    1450          153        197          3    60     181      0\n",
       "19        4     507          207        135          3    75     167      0"
      ]
     },
     "execution_count": 13,
     "metadata": {},
     "output_type": "execute_result"
    }
   ],
   "source": [
    "df.head(20)"
   ]
  },
  {
   "cell_type": "markdown",
   "id": "3baae198",
   "metadata": {
    "papermill": {
     "duration": 0.007512,
     "end_time": "2022-09-27T04:48:19.416289",
     "exception": false,
     "start_time": "2022-09-27T04:48:19.408777",
     "status": "completed"
    },
    "tags": []
   },
   "source": [
    "# Visualize some features of data"
   ]
  },
  {
   "cell_type": "raw",
   "id": "8fefe91e",
   "metadata": {},
   "source": [
    "id: Identifier for the flight data\n",
    "\n",
    "Airline: The airline's abbreviation\n",
    "\n",
    "Flight: Flight number\n",
    "\n",
    "AirportFrom: Departure airport\n",
    "\n",
    "AirportTo: Arrival airport\n",
    "\n",
    "DayOfWeek: The day of the week (as a number) when the flight occurs\n",
    "\n",
    "Time: The time the flight is scheduled\n",
    "\n",
    "Length: Flight duration in minutes\n",
    "\n",
    "Delay: A binary variable indicating if the flight was delayed (1 for delayed, 0 for not delayed)"
   ]
  },
  {
   "cell_type": "raw",
   "id": "0f66f53e",
   "metadata": {
    "execution": {
     "iopub.execute_input": "2022-09-27T04:48:19.433984Z",
     "iopub.status.busy": "2022-09-27T04:48:19.433168Z",
     "iopub.status.idle": "2022-09-27T04:48:19.737639Z",
     "shell.execute_reply": "2022-09-27T04:48:19.736682Z"
    },
    "papermill": {
     "duration": 0.320725,
     "end_time": "2022-09-27T04:48:19.745115",
     "exception": false,
     "start_time": "2022-09-27T04:48:19.424390",
     "status": "completed"
    },
    "tags": []
   },
   "source": [
    "sns.countplot(df['Delay'].value_counts())"
   ]
  },
  {
   "cell_type": "code",
   "execution_count": 14,
   "id": "37f61107",
   "metadata": {
    "execution": {
     "iopub.execute_input": "2022-09-27T04:48:19.774477Z",
     "iopub.status.busy": "2022-09-27T04:48:19.773955Z",
     "iopub.status.idle": "2022-09-27T04:48:20.747187Z",
     "shell.execute_reply": "2022-09-27T04:48:20.746265Z"
    },
    "papermill": {
     "duration": 0.990724,
     "end_time": "2022-09-27T04:48:20.750089",
     "exception": false,
     "start_time": "2022-09-27T04:48:19.759365",
     "status": "completed"
    },
    "tags": []
   },
   "outputs": [
    {
     "data": {
      "text/plain": [
       "<Axes: xlabel='Time', ylabel='Count'>"
      ]
     },
     "execution_count": 14,
     "metadata": {},
     "output_type": "execute_result"
    },
    {
     "data": {
      "image/png": "[encoded data removed]",
      "text/plain": [
       "<Figure size 640x480 with 1 Axes>"
      ]
     },
     "metadata": {},
     "output_type": "display_data"
    }
   ],
   "source": [
    "sns.histplot(df['Time'])"
   ]
  },
  {
   "cell_type": "code",
   "execution_count": 15,
   "id": "92e6bb7e",
   "metadata": {
    "execution": {
     "iopub.execute_input": "2022-09-27T04:48:20.779909Z",
     "iopub.status.busy": "2022-09-27T04:48:20.779541Z",
     "iopub.status.idle": "2022-09-27T04:48:21.830573Z",
     "shell.execute_reply": "2022-09-27T04:48:21.828953Z"
    },
    "papermill": {
     "duration": 1.069461,
     "end_time": "2022-09-27T04:48:21.834174",
     "exception": false,
     "start_time": "2022-09-27T04:48:20.764713",
     "status": "completed"
    },
    "tags": []
   },
   "outputs": [
    {
     "data": {
      "text/plain": [
       "<Axes: xlabel='Length', ylabel='Count'>"
      ]
     },
     "execution_count": 15,
     "metadata": {},
     "output_type": "execute_result"
    },
    {
     "data": {
      "image/png": "[encoded data removed]",
      "text/plain": [
       "<Figure size 640x480 with 1 Axes>"
      ]
     },
     "metadata": {},
     "output_type": "display_data"
    }
   ],
   "source": [
    "sns.histplot(df['Length'])"
   ]
  },
  {
   "cell_type": "code",
   "execution_count": 16,
   "id": "9f93349e",
   "metadata": {
    "execution": {
     "iopub.execute_input": "2022-09-27T04:48:21.864086Z",
     "iopub.status.busy": "2022-09-27T04:48:21.862712Z",
     "iopub.status.idle": "2022-09-27T04:48:21.884780Z",
     "shell.execute_reply": "2022-09-27T04:48:21.883118Z"
    },
    "papermill": {
     "duration": 0.042473,
     "end_time": "2022-09-27T04:48:21.889166",
     "exception": false,
     "start_time": "2022-09-27T04:48:21.846693",
     "status": "completed"
    },
    "tags": []
   },
   "outputs": [],
   "source": [
    "df['Length_by_hours'] = df['Length'] / 60\n",
    "df['Time_by_hour'] = df['Time'] / 60"
   ]
  },
  {
   "cell_type": "code",
   "execution_count": 17,
   "id": "b7aac954",
   "metadata": {
    "execution": {
     "iopub.execute_input": "2022-09-27T04:48:21.916716Z",
     "iopub.status.busy": "2022-09-27T04:48:21.916104Z",
     "iopub.status.idle": "2022-09-27T04:48:21.981984Z",
     "shell.execute_reply": "2022-09-27T04:48:21.980817Z"
    },
    "papermill": {
     "duration": 0.083066,
     "end_time": "2022-09-27T04:48:21.984842",
     "exception": false,
     "start_time": "2022-09-27T04:48:21.901776",
     "status": "completed"
    },
    "tags": []
   },
   "outputs": [],
   "source": [
    "df.drop(columns=['Length', 'Time'], inplace=True)"
   ]
  },
  {
   "cell_type": "code",
   "execution_count": 18,
   "id": "312f4689",
   "metadata": {
    "execution": {
     "iopub.execute_input": "2022-09-27T04:48:22.007370Z",
     "iopub.status.busy": "2022-09-27T04:48:22.007009Z",
     "iopub.status.idle": "2022-09-27T04:48:22.734239Z",
     "shell.execute_reply": "2022-09-27T04:48:22.733298Z"
    },
    "papermill": {
     "duration": 0.740678,
     "end_time": "2022-09-27T04:48:22.736246",
     "exception": false,
     "start_time": "2022-09-27T04:48:21.995568",
     "status": "completed"
    },
    "tags": []
   },
   "outputs": [
    {
     "data": {
      "text/plain": [
       "<Axes: xlabel='Time_by_hour', ylabel='Count'>"
      ]
     },
     "execution_count": 18,
     "metadata": {},
     "output_type": "execute_result"
    },
    {
     "data": {
      "image/png": "[encoded data removed]",
      "text/plain": [
       "<Figure size 640x480 with 1 Axes>"
      ]
     },
     "metadata": {},
     "output_type": "display_data"
    }
   ],
   "source": [
    "sns.histplot(df['Time_by_hour'])"
   ]
  },
  {
   "cell_type": "code",
   "execution_count": 19,
   "id": "ab07f2c9",
   "metadata": {
    "execution": {
     "iopub.execute_input": "2022-09-27T04:48:22.756247Z",
     "iopub.status.busy": "2022-09-27T04:48:22.755929Z",
     "iopub.status.idle": "2022-09-27T04:48:23.763761Z",
     "shell.execute_reply": "2022-09-27T04:48:23.762886Z"
    },
    "papermill": {
     "duration": 1.020209,
     "end_time": "2022-09-27T04:48:23.765800",
     "exception": false,
     "start_time": "2022-09-27T04:48:22.745591",
     "status": "completed"
    },
    "tags": []
   },
   "outputs": [
    {
     "data": {
      "text/plain": [
       "<Axes: xlabel='Length_by_hours', ylabel='Count'>"
      ]
     },
     "execution_count": 19,
     "metadata": {},
     "output_type": "execute_result"
    },
    {
     "data": {
      "image/png": "[encoded data removed]",
      "text/plain": [
       "<Figure size 640x480 with 1 Axes>"
      ]
     },
     "metadata": {},
     "output_type": "display_data"
    }
   ],
   "source": [
    "sns.histplot(df['Length_by_hours'])"
   ]
  },
  {
   "cell_type": "markdown",
   "id": "63bd1f20",
   "metadata": {
    "papermill": {
     "duration": 0.009089,
     "end_time": "2022-09-27T04:48:23.784485",
     "exception": false,
     "start_time": "2022-09-27T04:48:23.775396",
     "status": "completed"
    },
    "tags": []
   },
   "source": [
    "# Feature extraction"
   ]
  },
  {
   "cell_type": "code",
   "execution_count": 20,
   "id": "959ac3a6",
   "metadata": {
    "execution": {
     "iopub.execute_input": "2022-09-27T04:48:23.804321Z",
     "iopub.status.busy": "2022-09-27T04:48:23.804016Z",
     "iopub.status.idle": "2022-09-27T04:48:35.740690Z",
     "shell.execute_reply": "2022-09-27T04:48:35.739093Z"
    },
    "papermill": {
     "duration": 11.951028,
     "end_time": "2022-09-27T04:48:35.744707",
     "exception": false,
     "start_time": "2022-09-27T04:48:23.793679",
     "status": "completed"
    },
    "tags": []
   },
   "outputs": [],
   "source": [
    "#0 --> Morning | 1 --> Afternoon | 2 --> Evening | 3 --> Night"
   ]
  },
  {
   "cell_type": "code",
   "execution_count": 21,
   "id": "53a9664f",
   "metadata": {
    "execution": {
     "iopub.execute_input": "2022-09-27T04:48:23.804321Z",
     "iopub.status.busy": "2022-09-27T04:48:23.804016Z",
     "iopub.status.idle": "2022-09-27T04:48:35.740690Z",
     "shell.execute_reply": "2022-09-27T04:48:35.739093Z"
    },
    "papermill": {
     "duration": 11.951028,
     "end_time": "2022-09-27T04:48:35.744707",
     "exception": false,
     "start_time": "2022-09-27T04:48:23.793679",
     "status": "completed"
    },
    "tags": []
   },
   "outputs": [],
   "source": [
    "departure_period = []\n",
    "for i in range(0,len(df)):\n",
    "    if ((df['Time_by_hour'][i] >= 5) & (df['Time_by_hour'][i] < 12)):      \n",
    "        departure_period.append(0)\n",
    "        \n",
    "    elif ((df['Time_by_hour'][i] >= 12) & (df['Time_by_hour'][i] < 17)):    \n",
    "        departure_period.append(1)\n",
    "        \n",
    "    elif ((df['Time_by_hour'][i] >= 17) & (df['Time_by_hour'][i] < 21)): \n",
    "        departure_period.append(2)\n",
    "        \n",
    "    else: \n",
    "        departure_period.append(3)\n",
    "\n",
    "df['Departure_period'] = departure_period"
   ]
  },
  {
   "cell_type": "code",
   "execution_count": 22,
   "id": "923abccd",
   "metadata": {
    "execution": {
     "iopub.execute_input": "2022-09-27T04:48:35.799078Z",
     "iopub.status.busy": "2022-09-27T04:48:35.797491Z",
     "iopub.status.idle": "2022-09-27T04:48:35.824004Z",
     "shell.execute_reply": "2022-09-27T04:48:35.822570Z"
    },
    "papermill": {
     "duration": 0.051397,
     "end_time": "2022-09-27T04:48:35.828042",
     "exception": false,
     "start_time": "2022-09-27T04:48:35.776645",
     "status": "completed"
    },
    "tags": []
   },
   "outputs": [
    {
     "data": {
      "text/plain": [
       "Departure_period\n",
       "0    223289\n",
       "1    170239\n",
       "2    120044\n",
       "3     25811\n",
       "Name: count, dtype: int64"
      ]
     },
     "execution_count": 22,
     "metadata": {},
     "output_type": "execute_result"
    }
   ],
   "source": [
    "df['Departure_period'].value_counts() #depart புறப்படு"
   ]
  },
  {
   "cell_type": "code",
   "execution_count": 23,
   "id": "dc082316",
   "metadata": {},
   "outputs": [
    {
     "data": {
      "text/plain": [
       "DayOfWeek\n",
       "4    91445\n",
       "3    89746\n",
       "5    85248\n",
       "1    72769\n",
       "2    71340\n",
       "7    69879\n",
       "6    58956\n",
       "Name: count, dtype: int64"
      ]
     },
     "execution_count": 23,
     "metadata": {},
     "output_type": "execute_result"
    }
   ],
   "source": [
    "df['DayOfWeek'].value_counts()"
   ]
  },
  {
   "cell_type": "code",
   "execution_count": 24,
   "id": "e82d8c6d",
   "metadata": {
    "execution": {
     "iopub.execute_input": "2022-09-27T04:48:35.858874Z",
     "iopub.status.busy": "2022-09-27T04:48:35.858399Z",
     "iopub.status.idle": "2022-09-27T04:48:42.188949Z",
     "shell.execute_reply": "2022-09-27T04:48:42.187820Z"
    },
    "papermill": {
     "duration": 6.349624,
     "end_time": "2022-09-27T04:48:42.191780",
     "exception": false,
     "start_time": "2022-09-27T04:48:35.842156",
     "status": "completed"
    },
    "tags": []
   },
   "outputs": [],
   "source": [
    "# 0 --> not holiday | 1 --> holiday\n",
    "holiday = []\n",
    "for i in range(0,len(df)):\n",
    "    if ((df['DayOfWeek'][i] == 6) | (df['DayOfWeek'][i] == 7)):      \n",
    "        holiday.append(1)\n",
    "    else: \n",
    "        holiday.append(0)\n",
    "\n",
    "df['Holiday'] = holiday"
   ]
  },
  {
   "cell_type": "code",
   "execution_count": 25,
   "id": "408e61ab",
   "metadata": {},
   "outputs": [
    {
     "data": {
      "text/plain": [
       "Holiday\n",
       "0    410548\n",
       "1    128835\n",
       "Name: count, dtype: int64"
      ]
     },
     "execution_count": 25,
     "metadata": {},
     "output_type": "execute_result"
    }
   ],
   "source": [
    "df['Holiday'].value_counts()"
   ]
  },
  {
   "cell_type": "code",
   "execution_count": 26,
   "id": "1b0d1679",
   "metadata": {
    "execution": {
     "iopub.execute_input": "2022-09-27T04:48:42.249322Z",
     "iopub.status.busy": "2022-09-27T04:48:42.249033Z",
     "iopub.status.idle": "2022-09-27T04:48:55.575480Z",
     "shell.execute_reply": "2022-09-27T04:48:55.574495Z"
    },
    "papermill": {
     "duration": 13.339263,
     "end_time": "2022-09-27T04:48:55.577870",
     "exception": false,
     "start_time": "2022-09-27T04:48:42.238607",
     "status": "completed"
    },
    "tags": []
   },
   "outputs": [],
   "source": [
    "arrival_time = []\n",
    "for i in range(0,len(df)):     \n",
    "    if ((df['Time_by_hour'][i] + df['Length_by_hours'][i]) >=24):\n",
    "        arrival_time.append((df['Time_by_hour'][i] + df['Length_by_hours'][i])-24)\n",
    "    else:\n",
    "        arrival_time.append(df['Time_by_hour'][i] + df['Length_by_hours'][i])\n",
    "        \n",
    "df['Arrival_Time'] = arrival_time"
   ]
  },
  {
   "cell_type": "code",
   "execution_count": 27,
   "id": "0ec48e36",
   "metadata": {},
   "outputs": [
    {
     "data": {
      "text/plain": [
       "0          0.250000\n",
       "1          0.250000\n",
       "2          0.333333\n",
       "3          0.333333\n",
       "4          0.500000\n",
       "            ...    \n",
       "539378    23.983333\n",
       "539379    23.983333\n",
       "539380    23.983333\n",
       "539381    23.983333\n",
       "539382    23.983333\n",
       "Name: Time_by_hour, Length: 539383, dtype: float64"
      ]
     },
     "execution_count": 27,
     "metadata": {},
     "output_type": "execute_result"
    }
   ],
   "source": [
    "df['Time_by_hour']"
   ]
  },
  {
   "cell_type": "code",
   "execution_count": 28,
   "id": "d59be7b1",
   "metadata": {},
   "outputs": [
    {
     "data": {
      "text/plain": [
       "0         3.666667\n",
       "1         3.950000\n",
       "2         3.083333\n",
       "3         3.583333\n",
       "4         3.866667\n",
       "            ...   \n",
       "539378    5.416667\n",
       "539379    5.066667\n",
       "539380    4.233333\n",
       "539381    5.200000\n",
       "539382    5.000000\n",
       "Name: Arrival_Time, Length: 539383, dtype: float64"
      ]
     },
     "execution_count": 28,
     "metadata": {},
     "output_type": "execute_result"
    }
   ],
   "source": [
    "df['Arrival_Time']"
   ]
  },
  {
   "cell_type": "code",
   "execution_count": 29,
   "id": "93a7c7a0",
   "metadata": {
    "execution": {
     "iopub.execute_input": "2022-09-27T04:48:55.599074Z",
     "iopub.status.busy": "2022-09-27T04:48:55.598748Z",
     "iopub.status.idle": "2022-09-27T04:49:09.551615Z",
     "shell.execute_reply": "2022-09-27T04:49:09.550626Z"
    },
    "papermill": {
     "duration": 13.965954,
     "end_time": "2022-09-27T04:49:09.554094",
     "exception": false,
     "start_time": "2022-09-27T04:48:55.588140",
     "status": "completed"
    },
    "tags": []
   },
   "outputs": [],
   "source": [
    "arrival_period = []\n",
    "for i in range(0,len(df)):\n",
    "    if ((df['Arrival_Time'][i] >= 5) & (df['Arrival_Time'][i] < 12)):      \n",
    "        arrival_period.append(0)\n",
    "    elif ((df['Arrival_Time'][i] >= 12) & (df['Arrival_Time'][i] < 17)):    \n",
    "        arrival_period.append(1)\n",
    "    elif ((df['Arrival_Time'][i] >= 17) & (df['Arrival_Time'][i] < 21)): \n",
    "        arrival_period.append(2)\n",
    "    else: \n",
    "        arrival_period.append(3)\n",
    "        \n",
    "df['Arrival_period'] = arrival_period"
   ]
  },
  {
   "cell_type": "code",
   "execution_count": 42,
   "id": "cdd209aa",
   "metadata": {
    "execution": {
     "iopub.execute_input": "2022-09-27T04:49:09.575953Z",
     "iopub.status.busy": "2022-09-27T04:49:09.575194Z",
     "iopub.status.idle": "2022-09-27T04:49:09.594104Z",
     "shell.execute_reply": "2022-09-27T04:49:09.592928Z"
    },
    "papermill": {
     "duration": 0.033277,
     "end_time": "2022-09-27T04:49:09.597445",
     "exception": false,
     "start_time": "2022-09-27T04:49:09.564168",
     "status": "completed"
    },
    "tags": []
   },
   "outputs": [
    {
     "data": {
      "text/html": [
       "<div>\n",
       "<style scoped>\n",
       "    .dataframe tbody tr th:only-of-type {\n",
       "        vertical-align: middle;\n",
       "    }\n",
       "\n",
       "    .dataframe tbody tr th {\n",
       "        vertical-align: top;\n",
       "    }\n",
       "\n",
       "    .dataframe thead th {\n",
       "        text-align: right;\n",
       "    }\n",
       "</style>\n",
       "<table border=\"1\" class=\"dataframe\">\n",
       "  <thead>\n",
       "    <tr style=\"text-align: right;\">\n",
       "      <th></th>\n",
       "      <th>Airline</th>\n",
       "      <th>Flight</th>\n",
       "      <th>AirportFrom</th>\n",
       "      <th>AirportTo</th>\n",
       "      <th>DayOfWeek</th>\n",
       "      <th>Delay</th>\n",
       "      <th>Length_by_hours</th>\n",
       "      <th>Time_by_hour</th>\n",
       "      <th>Departure_period</th>\n",
       "      <th>Holiday</th>\n",
       "      <th>Arrival_Time</th>\n",
       "      <th>Arrival_period</th>\n",
       "    </tr>\n",
       "  </thead>\n",
       "  <tbody>\n",
       "    <tr>\n",
       "      <th>0</th>\n",
       "      <td>4</td>\n",
       "      <td>269</td>\n",
       "      <td>253</td>\n",
       "      <td>135</td>\n",
       "      <td>3</td>\n",
       "      <td>1</td>\n",
       "      <td>3.416667</td>\n",
       "      <td>0.250000</td>\n",
       "      <td>3</td>\n",
       "      <td>0</td>\n",
       "      <td>3.666667</td>\n",
       "      <td>3</td>\n",
       "    </tr>\n",
       "    <tr>\n",
       "      <th>1</th>\n",
       "      <td>14</td>\n",
       "      <td>1558</td>\n",
       "      <td>217</td>\n",
       "      <td>60</td>\n",
       "      <td>3</td>\n",
       "      <td>1</td>\n",
       "      <td>3.700000</td>\n",
       "      <td>0.250000</td>\n",
       "      <td>3</td>\n",
       "      <td>0</td>\n",
       "      <td>3.950000</td>\n",
       "      <td>3</td>\n",
       "    </tr>\n",
       "    <tr>\n",
       "      <th>2</th>\n",
       "      <td>1</td>\n",
       "      <td>2400</td>\n",
       "      <td>154</td>\n",
       "      <td>80</td>\n",
       "      <td>3</td>\n",
       "      <td>1</td>\n",
       "      <td>2.750000</td>\n",
       "      <td>0.333333</td>\n",
       "      <td>3</td>\n",
       "      <td>0</td>\n",
       "      <td>3.083333</td>\n",
       "      <td>3</td>\n",
       "    </tr>\n",
       "    <tr>\n",
       "      <th>3</th>\n",
       "      <td>1</td>\n",
       "      <td>2466</td>\n",
       "      <td>253</td>\n",
       "      <td>80</td>\n",
       "      <td>3</td>\n",
       "      <td>1</td>\n",
       "      <td>3.250000</td>\n",
       "      <td>0.333333</td>\n",
       "      <td>3</td>\n",
       "      <td>0</td>\n",
       "      <td>3.583333</td>\n",
       "      <td>3</td>\n",
       "    </tr>\n",
       "    <tr>\n",
       "      <th>4</th>\n",
       "      <td>2</td>\n",
       "      <td>108</td>\n",
       "      <td>14</td>\n",
       "      <td>252</td>\n",
       "      <td>3</td>\n",
       "      <td>0</td>\n",
       "      <td>3.366667</td>\n",
       "      <td>0.500000</td>\n",
       "      <td>3</td>\n",
       "      <td>0</td>\n",
       "      <td>3.866667</td>\n",
       "      <td>3</td>\n",
       "    </tr>\n",
       "    <tr>\n",
       "      <th>5</th>\n",
       "      <td>4</td>\n",
       "      <td>1094</td>\n",
       "      <td>154</td>\n",
       "      <td>135</td>\n",
       "      <td>3</td>\n",
       "      <td>1</td>\n",
       "      <td>3.016667</td>\n",
       "      <td>0.500000</td>\n",
       "      <td>3</td>\n",
       "      <td>0</td>\n",
       "      <td>3.516667</td>\n",
       "      <td>3</td>\n",
       "    </tr>\n",
       "    <tr>\n",
       "      <th>6</th>\n",
       "      <td>5</td>\n",
       "      <td>1768</td>\n",
       "      <td>154</td>\n",
       "      <td>197</td>\n",
       "      <td>3</td>\n",
       "      <td>0</td>\n",
       "      <td>3.666667</td>\n",
       "      <td>0.500000</td>\n",
       "      <td>3</td>\n",
       "      <td>0</td>\n",
       "      <td>4.166667</td>\n",
       "      <td>3</td>\n",
       "    </tr>\n",
       "    <tr>\n",
       "      <th>7</th>\n",
       "      <td>5</td>\n",
       "      <td>2722</td>\n",
       "      <td>217</td>\n",
       "      <td>85</td>\n",
       "      <td>3</td>\n",
       "      <td>0</td>\n",
       "      <td>3.800000</td>\n",
       "      <td>0.500000</td>\n",
       "      <td>3</td>\n",
       "      <td>0</td>\n",
       "      <td>4.300000</td>\n",
       "      <td>3</td>\n",
       "    </tr>\n",
       "    <tr>\n",
       "      <th>8</th>\n",
       "      <td>5</td>\n",
       "      <td>2606</td>\n",
       "      <td>253</td>\n",
       "      <td>197</td>\n",
       "      <td>3</td>\n",
       "      <td>1</td>\n",
       "      <td>3.600000</td>\n",
       "      <td>0.583333</td>\n",
       "      <td>3</td>\n",
       "      <td>0</td>\n",
       "      <td>4.183333</td>\n",
       "      <td>3</td>\n",
       "    </tr>\n",
       "    <tr>\n",
       "      <th>9</th>\n",
       "      <td>1</td>\n",
       "      <td>2538</td>\n",
       "      <td>153</td>\n",
       "      <td>208</td>\n",
       "      <td>3</td>\n",
       "      <td>1</td>\n",
       "      <td>3.333333</td>\n",
       "      <td>0.666667</td>\n",
       "      <td>3</td>\n",
       "      <td>0</td>\n",
       "      <td>4.000000</td>\n",
       "      <td>3</td>\n",
       "    </tr>\n",
       "    <tr>\n",
       "      <th>10</th>\n",
       "      <td>4</td>\n",
       "      <td>223</td>\n",
       "      <td>14</td>\n",
       "      <td>252</td>\n",
       "      <td>3</td>\n",
       "      <td>1</td>\n",
       "      <td>3.350000</td>\n",
       "      <td>0.816667</td>\n",
       "      <td>3</td>\n",
       "      <td>0</td>\n",
       "      <td>4.166667</td>\n",
       "      <td>3</td>\n",
       "    </tr>\n",
       "    <tr>\n",
       "      <th>11</th>\n",
       "      <td>5</td>\n",
       "      <td>1646</td>\n",
       "      <td>217</td>\n",
       "      <td>16</td>\n",
       "      <td>3</td>\n",
       "      <td>1</td>\n",
       "      <td>3.533333</td>\n",
       "      <td>0.833333</td>\n",
       "      <td>3</td>\n",
       "      <td>0</td>\n",
       "      <td>4.366667</td>\n",
       "      <td>3</td>\n",
       "    </tr>\n",
       "    <tr>\n",
       "      <th>12</th>\n",
       "      <td>5</td>\n",
       "      <td>2055</td>\n",
       "      <td>261</td>\n",
       "      <td>16</td>\n",
       "      <td>3</td>\n",
       "      <td>0</td>\n",
       "      <td>3.500000</td>\n",
       "      <td>0.833333</td>\n",
       "      <td>3</td>\n",
       "      <td>0</td>\n",
       "      <td>4.333333</td>\n",
       "      <td>3</td>\n",
       "    </tr>\n",
       "    <tr>\n",
       "      <th>13</th>\n",
       "      <td>1</td>\n",
       "      <td>2408</td>\n",
       "      <td>154</td>\n",
       "      <td>80</td>\n",
       "      <td>3</td>\n",
       "      <td>0</td>\n",
       "      <td>2.833333</td>\n",
       "      <td>0.916667</td>\n",
       "      <td>3</td>\n",
       "      <td>0</td>\n",
       "      <td>3.750000</td>\n",
       "      <td>3</td>\n",
       "    </tr>\n",
       "    <tr>\n",
       "      <th>14</th>\n",
       "      <td>2</td>\n",
       "      <td>132</td>\n",
       "      <td>14</td>\n",
       "      <td>214</td>\n",
       "      <td>3</td>\n",
       "      <td>0</td>\n",
       "      <td>3.583333</td>\n",
       "      <td>0.916667</td>\n",
       "      <td>3</td>\n",
       "      <td>0</td>\n",
       "      <td>4.500000</td>\n",
       "      <td>3</td>\n",
       "    </tr>\n",
       "    <tr>\n",
       "      <th>15</th>\n",
       "      <td>14</td>\n",
       "      <td>498</td>\n",
       "      <td>79</td>\n",
       "      <td>60</td>\n",
       "      <td>3</td>\n",
       "      <td>0</td>\n",
       "      <td>2.983333</td>\n",
       "      <td>0.916667</td>\n",
       "      <td>3</td>\n",
       "      <td>0</td>\n",
       "      <td>3.900000</td>\n",
       "      <td>3</td>\n",
       "    </tr>\n",
       "    <tr>\n",
       "      <th>16</th>\n",
       "      <td>3</td>\n",
       "      <td>98</td>\n",
       "      <td>79</td>\n",
       "      <td>148</td>\n",
       "      <td>3</td>\n",
       "      <td>0</td>\n",
       "      <td>3.550000</td>\n",
       "      <td>0.983333</td>\n",
       "      <td>3</td>\n",
       "      <td>0</td>\n",
       "      <td>4.533333</td>\n",
       "      <td>3</td>\n",
       "    </tr>\n",
       "    <tr>\n",
       "      <th>17</th>\n",
       "      <td>4</td>\n",
       "      <td>1496</td>\n",
       "      <td>153</td>\n",
       "      <td>135</td>\n",
       "      <td>3</td>\n",
       "      <td>0</td>\n",
       "      <td>2.700000</td>\n",
       "      <td>1.000000</td>\n",
       "      <td>3</td>\n",
       "      <td>0</td>\n",
       "      <td>3.700000</td>\n",
       "      <td>3</td>\n",
       "    </tr>\n",
       "    <tr>\n",
       "      <th>18</th>\n",
       "      <td>5</td>\n",
       "      <td>1450</td>\n",
       "      <td>153</td>\n",
       "      <td>197</td>\n",
       "      <td>3</td>\n",
       "      <td>0</td>\n",
       "      <td>3.016667</td>\n",
       "      <td>1.000000</td>\n",
       "      <td>3</td>\n",
       "      <td>0</td>\n",
       "      <td>4.016667</td>\n",
       "      <td>3</td>\n",
       "    </tr>\n",
       "    <tr>\n",
       "      <th>19</th>\n",
       "      <td>4</td>\n",
       "      <td>507</td>\n",
       "      <td>207</td>\n",
       "      <td>135</td>\n",
       "      <td>3</td>\n",
       "      <td>0</td>\n",
       "      <td>2.783333</td>\n",
       "      <td>1.250000</td>\n",
       "      <td>3</td>\n",
       "      <td>0</td>\n",
       "      <td>4.033333</td>\n",
       "      <td>3</td>\n",
       "    </tr>\n",
       "  </tbody>\n",
       "</table>\n",
       "</div>"
      ],
      "text/plain": [
       "    Airline  Flight  AirportFrom  AirportTo  DayOfWeek  Delay  \\\n",
       "0         4     269          253        135          3      1   \n",
       "1        14    1558          217         60          3      1   \n",
       "2         1    2400          154         80          3      1   \n",
       "3         1    2466          253         80          3      1   \n",
       "4         2     108           14        252          3      0   \n",
       "5         4    1094          154        135          3      1   \n",
       "6         5    1768          154        197          3      0   \n",
       "7         5    2722          217         85          3      0   \n",
       "8         5    2606          253        197          3      1   \n",
       "9         1    2538          153        208          3      1   \n",
       "10        4     223           14        252          3      1   \n",
       "11        5    1646          217         16          3      1   \n",
       "12        5    2055          261         16          3      0   \n",
       "13        1    2408          154         80          3      0   \n",
       "14        2     132           14        214          3      0   \n",
       "15       14     498           79         60          3      0   \n",
       "16        3      98           79        148          3      0   \n",
       "17        4    1496          153        135          3      0   \n",
       "18        5    1450          153        197          3      0   \n",
       "19        4     507          207        135          3      0   \n",
       "\n",
       "    Length_by_hours  Time_by_hour  Departure_period  Holiday  Arrival_Time  \\\n",
       "0          3.416667      0.250000                 3        0      3.666667   \n",
       "1          3.700000      0.250000                 3        0      3.950000   \n",
       "2          2.750000      0.333333                 3        0      3.083333   \n",
       "3          3.250000      0.333333                 3        0      3.583333   \n",
       "4          3.366667      0.500000                 3        0      3.866667   \n",
       "5          3.016667      0.500000                 3        0      3.516667   \n",
       "6          3.666667      0.500000                 3        0      4.166667   \n",
       "7          3.800000      0.500000                 3        0      4.300000   \n",
       "8          3.600000      0.583333                 3        0      4.183333   \n",
       "9          3.333333      0.666667                 3        0      4.000000   \n",
       "10         3.350000      0.816667                 3        0      4.166667   \n",
       "11         3.533333      0.833333                 3        0      4.366667   \n",
       "12         3.500000      0.833333                 3        0      4.333333   \n",
       "13         2.833333      0.916667                 3        0      3.750000   \n",
       "14         3.583333      0.916667                 3        0      4.500000   \n",
       "15         2.983333      0.916667                 3        0      3.900000   \n",
       "16         3.550000      0.983333                 3        0      4.533333   \n",
       "17         2.700000      1.000000                 3        0      3.700000   \n",
       "18         3.016667      1.000000                 3        0      4.016667   \n",
       "19         2.783333      1.250000                 3        0      4.033333   \n",
       "\n",
       "    Arrival_period  \n",
       "0                3  \n",
       "1                3  \n",
       "2                3  \n",
       "3                3  \n",
       "4                3  \n",
       "5                3  \n",
       "6                3  \n",
       "7                3  \n",
       "8                3  \n",
       "9                3  \n",
       "10               3  \n",
       "11               3  \n",
       "12               3  \n",
       "13               3  \n",
       "14               3  \n",
       "15               3  \n",
       "16               3  \n",
       "17               3  \n",
       "18               3  \n",
       "19               3  "
      ]
     },
     "execution_count": 42,
     "metadata": {},
     "output_type": "execute_result"
    }
   ],
   "source": [
    "df.head(20)"
   ]
  },
  {
   "cell_type": "raw",
   "id": "2bc8134a",
   "metadata": {},
   "source": [
    "Airline: The airline operating the flight.\n",
    "    \n",
    "Flight: A unique identifier for each flight.\n",
    "    \n",
    "AirportFrom: The airport where the flight departs.\n",
    "    \n",
    "AirportTo: The airport where the flight arrives.\n",
    "    \n",
    "DayOfWeek: The day of the week when the flight happens (e.g., Monday, Tuesday).\n",
    "    \n",
    "Delay: Indicates if the flight was delayed (1 for delayed, 0 for not delayed).\n",
    "    \n",
    "Length_by_hours: The duration of the flight in hours.\n",
    "    \n",
    "Time_by_hour: The time of departure in hours.\n",
    "    \n",
    "Departure_period: Categorizes the departure time into specific periods.\n",
    "    \n",
    "Holiday: Indicates if the day is a holiday (1 for holiday, 0 for a regular day).\n",
    "    \n",
    "Arrival_Time: The time of arrival in hours.\n",
    "    \n",
    "Arrival_period: Categorizes the arrival time into specific periods."
   ]
  },
  {
   "cell_type": "markdown",
   "id": "3803cd1c",
   "metadata": {
    "papermill": {
     "duration": 0.010562,
     "end_time": "2022-09-27T04:49:09.619658",
     "exception": false,
     "start_time": "2022-09-27T04:49:09.609096",
     "status": "completed"
    },
    "tags": []
   },
   "source": [
    "# Correlation among features"
   ]
  },
  {
   "cell_type": "code",
   "execution_count": 31,
   "id": "e85473a8",
   "metadata": {
    "execution": {
     "iopub.execute_input": "2022-09-27T04:49:09.640912Z",
     "iopub.status.busy": "2022-09-27T04:49:09.640546Z",
     "iopub.status.idle": "2022-09-27T04:49:10.949355Z",
     "shell.execute_reply": "2022-09-27T04:49:10.948393Z"
    },
    "papermill": {
     "duration": 1.322453,
     "end_time": "2022-09-27T04:49:10.952057",
     "exception": false,
     "start_time": "2022-09-27T04:49:09.629604",
     "status": "completed"
    },
    "tags": []
   },
   "outputs": [
    {
     "data": {
      "image/png": "[encoded data removed]",
      "text/plain": [
       "<Figure size 1500x1500 with 2 Axes>"
      ]
     },
     "metadata": {},
     "output_type": "display_data"
    }
   ],
   "source": [
    "plt.figure(figsize=(15,15))\n",
    "cor = df.corr()\n",
    "sns.heatmap(cor, annot=True, cmap=plt.cm.Reds, fmt='.2f')\n",
    "plt.show()"
   ]
  },
  {
   "cell_type": "code",
   "execution_count": 32,
   "id": "8b511f2a",
   "metadata": {
    "execution": {
     "iopub.execute_input": "2022-09-27T04:49:10.975642Z",
     "iopub.status.busy": "2022-09-27T04:49:10.975327Z",
     "iopub.status.idle": "2022-09-27T04:49:11.020293Z",
     "shell.execute_reply": "2022-09-27T04:49:11.019283Z"
    },
    "papermill": {
     "duration": 0.059372,
     "end_time": "2022-09-27T04:49:11.022832",
     "exception": false,
     "start_time": "2022-09-27T04:49:10.963460",
     "status": "completed"
    },
    "tags": []
   },
   "outputs": [],
   "source": [
    "X = df.drop(columns='Delay')\n",
    "y = df['Delay']"
   ]
  },
  {
   "cell_type": "code",
   "execution_count": 43,
   "id": "99b9caf2",
   "metadata": {},
   "outputs": [
    {
     "data": {
      "text/html": [
       "<div>\n",
       "<style scoped>\n",
       "    .dataframe tbody tr th:only-of-type {\n",
       "        vertical-align: middle;\n",
       "    }\n",
       "\n",
       "    .dataframe tbody tr th {\n",
       "        vertical-align: top;\n",
       "    }\n",
       "\n",
       "    .dataframe thead th {\n",
       "        text-align: right;\n",
       "    }\n",
       "</style>\n",
       "<table border=\"1\" class=\"dataframe\">\n",
       "  <thead>\n",
       "    <tr style=\"text-align: right;\">\n",
       "      <th></th>\n",
       "      <th>Airline</th>\n",
       "      <th>Flight</th>\n",
       "      <th>AirportFrom</th>\n",
       "      <th>AirportTo</th>\n",
       "      <th>DayOfWeek</th>\n",
       "      <th>Length_by_hours</th>\n",
       "      <th>Time_by_hour</th>\n",
       "      <th>Departure_period</th>\n",
       "      <th>Holiday</th>\n",
       "      <th>Arrival_Time</th>\n",
       "      <th>Arrival_period</th>\n",
       "    </tr>\n",
       "  </thead>\n",
       "  <tbody>\n",
       "    <tr>\n",
       "      <th>0</th>\n",
       "      <td>4</td>\n",
       "      <td>269</td>\n",
       "      <td>253</td>\n",
       "      <td>135</td>\n",
       "      <td>3</td>\n",
       "      <td>3.416667</td>\n",
       "      <td>0.250000</td>\n",
       "      <td>3</td>\n",
       "      <td>0</td>\n",
       "      <td>3.666667</td>\n",
       "      <td>3</td>\n",
       "    </tr>\n",
       "    <tr>\n",
       "      <th>1</th>\n",
       "      <td>14</td>\n",
       "      <td>1558</td>\n",
       "      <td>217</td>\n",
       "      <td>60</td>\n",
       "      <td>3</td>\n",
       "      <td>3.700000</td>\n",
       "      <td>0.250000</td>\n",
       "      <td>3</td>\n",
       "      <td>0</td>\n",
       "      <td>3.950000</td>\n",
       "      <td>3</td>\n",
       "    </tr>\n",
       "    <tr>\n",
       "      <th>2</th>\n",
       "      <td>1</td>\n",
       "      <td>2400</td>\n",
       "      <td>154</td>\n",
       "      <td>80</td>\n",
       "      <td>3</td>\n",
       "      <td>2.750000</td>\n",
       "      <td>0.333333</td>\n",
       "      <td>3</td>\n",
       "      <td>0</td>\n",
       "      <td>3.083333</td>\n",
       "      <td>3</td>\n",
       "    </tr>\n",
       "    <tr>\n",
       "      <th>3</th>\n",
       "      <td>1</td>\n",
       "      <td>2466</td>\n",
       "      <td>253</td>\n",
       "      <td>80</td>\n",
       "      <td>3</td>\n",
       "      <td>3.250000</td>\n",
       "      <td>0.333333</td>\n",
       "      <td>3</td>\n",
       "      <td>0</td>\n",
       "      <td>3.583333</td>\n",
       "      <td>3</td>\n",
       "    </tr>\n",
       "    <tr>\n",
       "      <th>4</th>\n",
       "      <td>2</td>\n",
       "      <td>108</td>\n",
       "      <td>14</td>\n",
       "      <td>252</td>\n",
       "      <td>3</td>\n",
       "      <td>3.366667</td>\n",
       "      <td>0.500000</td>\n",
       "      <td>3</td>\n",
       "      <td>0</td>\n",
       "      <td>3.866667</td>\n",
       "      <td>3</td>\n",
       "    </tr>\n",
       "    <tr>\n",
       "      <th>...</th>\n",
       "      <td>...</td>\n",
       "      <td>...</td>\n",
       "      <td>...</td>\n",
       "      <td>...</td>\n",
       "      <td>...</td>\n",
       "      <td>...</td>\n",
       "      <td>...</td>\n",
       "      <td>...</td>\n",
       "      <td>...</td>\n",
       "      <td>...</td>\n",
       "      <td>...</td>\n",
       "    </tr>\n",
       "    <tr>\n",
       "      <th>539378</th>\n",
       "      <td>4</td>\n",
       "      <td>178</td>\n",
       "      <td>203</td>\n",
       "      <td>264</td>\n",
       "      <td>5</td>\n",
       "      <td>5.433333</td>\n",
       "      <td>23.983333</td>\n",
       "      <td>3</td>\n",
       "      <td>0</td>\n",
       "      <td>5.416667</td>\n",
       "      <td>0</td>\n",
       "    </tr>\n",
       "    <tr>\n",
       "      <th>539379</th>\n",
       "      <td>8</td>\n",
       "      <td>398</td>\n",
       "      <td>252</td>\n",
       "      <td>16</td>\n",
       "      <td>5</td>\n",
       "      <td>5.083333</td>\n",
       "      <td>23.983333</td>\n",
       "      <td>3</td>\n",
       "      <td>0</td>\n",
       "      <td>5.066667</td>\n",
       "      <td>0</td>\n",
       "    </tr>\n",
       "    <tr>\n",
       "      <th>539380</th>\n",
       "      <td>8</td>\n",
       "      <td>609</td>\n",
       "      <td>253</td>\n",
       "      <td>184</td>\n",
       "      <td>5</td>\n",
       "      <td>4.250000</td>\n",
       "      <td>23.983333</td>\n",
       "      <td>3</td>\n",
       "      <td>0</td>\n",
       "      <td>4.233333</td>\n",
       "      <td>3</td>\n",
       "    </tr>\n",
       "    <tr>\n",
       "      <th>539381</th>\n",
       "      <td>13</td>\n",
       "      <td>78</td>\n",
       "      <td>128</td>\n",
       "      <td>253</td>\n",
       "      <td>5</td>\n",
       "      <td>5.216667</td>\n",
       "      <td>23.983333</td>\n",
       "      <td>3</td>\n",
       "      <td>0</td>\n",
       "      <td>5.200000</td>\n",
       "      <td>0</td>\n",
       "    </tr>\n",
       "    <tr>\n",
       "      <th>539382</th>\n",
       "      <td>14</td>\n",
       "      <td>1442</td>\n",
       "      <td>154</td>\n",
       "      <td>216</td>\n",
       "      <td>5</td>\n",
       "      <td>5.016667</td>\n",
       "      <td>23.983333</td>\n",
       "      <td>3</td>\n",
       "      <td>0</td>\n",
       "      <td>5.000000</td>\n",
       "      <td>0</td>\n",
       "    </tr>\n",
       "  </tbody>\n",
       "</table>\n",
       "<p>539383 rows × 11 columns</p>\n",
       "</div>"
      ],
      "text/plain": [
       "        Airline  Flight  AirportFrom  AirportTo  DayOfWeek  Length_by_hours  \\\n",
       "0             4     269          253        135          3         3.416667   \n",
       "1            14    1558          217         60          3         3.700000   \n",
       "2             1    2400          154         80          3         2.750000   \n",
       "3             1    2466          253         80          3         3.250000   \n",
       "4             2     108           14        252          3         3.366667   \n",
       "...         ...     ...          ...        ...        ...              ...   \n",
       "539378        4     178          203        264          5         5.433333   \n",
       "539379        8     398          252         16          5         5.083333   \n",
       "539380        8     609          253        184          5         4.250000   \n",
       "539381       13      78          128        253          5         5.216667   \n",
       "539382       14    1442          154        216          5         5.016667   \n",
       "\n",
       "        Time_by_hour  Departure_period  Holiday  Arrival_Time  Arrival_period  \n",
       "0           0.250000                 3        0      3.666667               3  \n",
       "1           0.250000                 3        0      3.950000               3  \n",
       "2           0.333333                 3        0      3.083333               3  \n",
       "3           0.333333                 3        0      3.583333               3  \n",
       "4           0.500000                 3        0      3.866667               3  \n",
       "...              ...               ...      ...           ...             ...  \n",
       "539378     23.983333                 3        0      5.416667               0  \n",
       "539379     23.983333                 3        0      5.066667               0  \n",
       "539380     23.983333                 3        0      4.233333               3  \n",
       "539381     23.983333                 3        0      5.200000               0  \n",
       "539382     23.983333                 3        0      5.000000               0  \n",
       "\n",
       "[539383 rows x 11 columns]"
      ]
     },
     "execution_count": 43,
     "metadata": {},
     "output_type": "execute_result"
    }
   ],
   "source": [
    "X"
   ]
  },
  {
   "cell_type": "code",
   "execution_count": 44,
   "id": "a4f2e6ec",
   "metadata": {},
   "outputs": [
    {
     "data": {
      "text/plain": [
       "0         1\n",
       "1         1\n",
       "2         1\n",
       "3         1\n",
       "4         0\n",
       "         ..\n",
       "539378    0\n",
       "539379    0\n",
       "539380    0\n",
       "539381    1\n",
       "539382    1\n",
       "Name: Delay, Length: 539383, dtype: int64"
      ]
     },
     "execution_count": 44,
     "metadata": {},
     "output_type": "execute_result"
    }
   ],
   "source": [
    "y"
   ]
  },
  {
   "cell_type": "code",
   "execution_count": 33,
   "id": "8606c259",
   "metadata": {
    "execution": {
     "iopub.execute_input": "2022-09-27T04:49:11.046618Z",
     "iopub.status.busy": "2022-09-27T04:49:11.046272Z",
     "iopub.status.idle": "2022-09-27T04:49:11.132132Z",
     "shell.execute_reply": "2022-09-27T04:49:11.131103Z"
    },
    "papermill": {
     "duration": 0.100339,
     "end_time": "2022-09-27T04:49:11.134595",
     "exception": false,
     "start_time": "2022-09-27T04:49:11.034256",
     "status": "completed"
    },
    "tags": []
   },
   "outputs": [],
   "source": [
    "X_train, X_test, y_train, y_test = train_test_split(X, y, train_size=20, shuffle=True)"
   ]
  },
  {
   "cell_type": "markdown",
   "id": "99273bcb",
   "metadata": {
    "papermill": {
     "duration": 0.010594,
     "end_time": "2022-09-27T04:49:11.156394",
     "exception": false,
     "start_time": "2022-09-27T04:49:11.145800",
     "status": "completed"
    },
    "tags": []
   },
   "source": [
    "# Some ML Models"
   ]
  },
  {
   "cell_type": "raw",
   "id": "118659ad",
   "metadata": {},
   "source": [
    "criterion='entropy': This parameter sets the criterion used for making splits in the decision tree. In this case, it's using entropy to measure impurity.\n",
    "\n",
    "max_depth=16: This parameter sets the maximum depth of the decision tree. A deeper tree may lead to overfitting, so limiting the depth can help control model complexity.\n",
    "\n",
    "random_state=40: This parameter sets the random seed for reproducibility. Setting a specific random state ensures that your results will be consistent each time you run the code."
   ]
  },
  {
   "cell_type": "code",
   "execution_count": 34,
   "id": "e5d2bf98",
   "metadata": {
    "execution": {
     "iopub.execute_input": "2022-09-27T04:49:11.180153Z",
     "iopub.status.busy": "2022-09-27T04:49:11.178807Z",
     "iopub.status.idle": "2022-09-27T04:49:14.765696Z",
     "shell.execute_reply": "2022-09-27T04:49:14.764594Z"
    },
    "papermill": {
     "duration": 3.60156,
     "end_time": "2022-09-27T04:49:14.768609",
     "exception": false,
     "start_time": "2022-09-27T04:49:11.167049",
     "status": "completed"
    },
    "tags": []
   },
   "outputs": [
    {
     "name": "stdout",
     "output_type": "stream",
     "text": [
      "DecisionTreeClassifierModel Train Score is :  1.0\n",
      "DecisionTreeClassifierModel Test Score is :  0.5529281763858478\n"
     ]
    }
   ],
   "source": [
    "DecisionTreeClassifierModel = DecisionTreeClassifier(criterion='entropy',max_depth=16,random_state=40)\n",
    "DecisionTreeClassifierModel.fit(X_train, y_train)\n",
    "\n",
    "print('DecisionTreeClassifierModel Train Score is : ' , DecisionTreeClassifierModel.score(X_train, y_train))\n",
    "print('DecisionTreeClassifierModel Test Score is : ' , DecisionTreeClassifierModel.score(X_test, y_test))"
   ]
  },
  {
   "cell_type": "code",
   "execution_count": 35,
   "id": "506b6231",
   "metadata": {
    "execution": {
     "iopub.execute_input": "2022-09-27T04:49:14.795995Z",
     "iopub.status.busy": "2022-09-27T04:49:14.795624Z",
     "iopub.status.idle": "2022-09-27T04:49:15.049826Z",
     "shell.execute_reply": "2022-09-27T04:49:15.048574Z"
    },
    "papermill": {
     "duration": 0.270278,
     "end_time": "2022-09-27T04:49:15.052507",
     "exception": false,
     "start_time": "2022-09-27T04:49:14.782229",
     "status": "completed"
    },
    "tags": []
   },
   "outputs": [
    {
     "data": {
      "image/png": "[encoded data removed]",
      "text/plain": [
       "<Figure size 640x480 with 2 Axes>"
      ]
     },
     "metadata": {},
     "output_type": "display_data"
    },
    {
     "name": "stdout",
     "output_type": "stream",
     "text": [
      "Confusion Matrix is\n",
      " [[242353  56750]\n",
      " [184384  55876]]\n"
     ]
    }
   ],
   "source": [
    "y_pred_DT = DecisionTreeClassifierModel.predict(X_test)\n",
    "\n",
    "CM_DT = confusion_matrix(y_test, y_pred_DT)\n",
    "sns.heatmap(CM_DT, center=True)\n",
    "plt.show()\n",
    "\n",
    "print('Confusion Matrix is\\n', CM_DT)"
   ]
  },
  {
   "cell_type": "raw",
   "id": "c07680bf",
   "metadata": {},
   "source": [
    "n_estimators=400: This parameter sets the number of decision trees in the random forest. A higher number of trees can lead to more robust results but may increase computation time.\n",
    "\n",
    "random_state=44: This parameter sets the random seed for reproducibility. Setting a specific random state ensures that your results will be consistent each time you run the code."
   ]
  },
  {
   "cell_type": "code",
   "execution_count": 36,
   "id": "7e29301a",
   "metadata": {
    "execution": {
     "iopub.execute_input": "2022-09-27T04:49:15.077439Z",
     "iopub.status.busy": "2022-09-27T04:49:15.077134Z",
     "iopub.status.idle": "2022-09-27T04:56:31.328605Z",
     "shell.execute_reply": "2022-09-27T04:56:31.327609Z"
    },
    "papermill": {
     "duration": 436.266385,
     "end_time": "2022-09-27T04:56:31.331276",
     "exception": false,
     "start_time": "2022-09-27T04:49:15.064891",
     "status": "completed"
    },
    "tags": []
   },
   "outputs": [
    {
     "name": "stdout",
     "output_type": "stream",
     "text": [
      "RandomForestClassifierModel Train Score is :  1.0\n",
      "RandomForestClassifierModel Test Score is :  0.5587795232524293\n"
     ]
    }
   ],
   "source": [
    "RandomForestClassifierModel = RandomForestClassifier(criterion = 'entropy', max_depth=18, n_estimators=400, random_state=44)\n",
    "RandomForestClassifierModel.fit(X_train, y_train)\n",
    "\n",
    "print('RandomForestClassifierModel Train Score is : ' , RandomForestClassifierModel.score(X_train, y_train))\n",
    "print('RandomForestClassifierModel Test Score is : ' , RandomForestClassifierModel.score(X_test, y_test))"
   ]
  },
  {
   "cell_type": "code",
   "execution_count": 37,
   "id": "9122e11d",
   "metadata": {
    "execution": {
     "iopub.execute_input": "2022-09-27T04:56:31.356064Z",
     "iopub.status.busy": "2022-09-27T04:56:31.355173Z",
     "iopub.status.idle": "2022-09-27T04:56:37.305035Z",
     "shell.execute_reply": "2022-09-27T04:56:37.304006Z"
    },
    "papermill": {
     "duration": 5.965276,
     "end_time": "2022-09-27T04:56:37.308034",
     "exception": false,
     "start_time": "2022-09-27T04:56:31.342758",
     "status": "completed"
    },
    "tags": []
   },
   "outputs": [
    {
     "data": {
      "image/png": "[encoded data removed]",
      "text/plain": [
       "<Figure size 640x480 with 2 Axes>"
      ]
     },
     "metadata": {},
     "output_type": "display_data"
    },
    {
     "name": "stdout",
     "output_type": "stream",
     "text": [
      "Confusion Matrix is\n",
      " [[292555   6548]\n",
      " [231430   8830]]\n"
     ]
    }
   ],
   "source": [
    "y_pred_RF = RandomForestClassifierModel.predict(X_test)\n",
    "CM_RF = confusion_matrix(y_test, y_pred_RF)\n",
    "\n",
    "sns.heatmap(CM_RF, center=True)\n",
    "plt.show()\n",
    "\n",
    "print('Confusion Matrix is\\n', CM_RF)"
   ]
  },
  {
   "cell_type": "code",
   "execution_count": 38,
   "id": "38918867",
   "metadata": {
    "execution": {
     "iopub.execute_input": "2022-09-27T04:56:37.334503Z",
     "iopub.status.busy": "2022-09-27T04:56:37.334206Z",
     "iopub.status.idle": "2022-09-27T05:05:01.566331Z",
     "shell.execute_reply": "2022-09-27T05:05:01.565353Z"
    },
    "papermill": {
     "duration": 504.254858,
     "end_time": "2022-09-27T05:05:01.575795",
     "exception": false,
     "start_time": "2022-09-27T04:56:37.320937",
     "status": "completed"
    },
    "tags": []
   },
   "outputs": [
    {
     "name": "stdout",
     "output_type": "stream",
     "text": [
      "GBCModel Train Score is :  1.0\n",
      "GBCModel Test Score is :  0.5318236512330285\n"
     ]
    }
   ],
   "source": [
    "GBCModel = GradientBoostingClassifier(n_estimators=300, max_depth=8, learning_rate=0.25, random_state=44)\n",
    "GBCModel.fit(X_train, y_train)\n",
    "print('GBCModel Train Score is : ' , GBCModel.score(X_train, y_train))\n",
    "print('GBCModel Test Score is : ' , GBCModel.score(X_test, y_test))"
   ]
  },
  {
   "cell_type": "raw",
   "id": "9c04b023",
   "metadata": {},
   "source": [
    "A confusion matrix is a table that is used to evaluate the performance of a classification model. It shows the number of correct and incorrect predictions made by the model for each class.\n",
    "\n",
    "True positive (TP): The model correctly predicted that the data point belonged to a particular class.\n",
    "False positive (FP): The model incorrectly predicted that the data point belonged to a particular class.\n",
    "True negative (TN): The model correctly predicted that the data point did not belong to a particular class.\n",
    "False negative (FN): The model incorrectly predicted that the data point did not belong to a particular class."
   ]
  },
  {
   "cell_type": "code",
   "execution_count": 39,
   "id": "bbf08940",
   "metadata": {
    "execution": {
     "iopub.execute_input": "2022-09-27T05:05:01.599985Z",
     "iopub.status.busy": "2022-09-27T05:05:01.599662Z",
     "iopub.status.idle": "2022-09-27T05:05:02.280210Z",
     "shell.execute_reply": "2022-09-27T05:05:02.278458Z"
    },
    "papermill": {
     "duration": 0.695047,
     "end_time": "2022-09-27T05:05:02.282315",
     "exception": false,
     "start_time": "2022-09-27T05:05:01.587268",
     "status": "completed"
    },
    "tags": []
   },
   "outputs": [
    {
     "data": {
      "image/png": "[encoded data removed]",
      "text/plain": [
       "<Figure size 640x480 with 2 Axes>"
      ]
     },
     "metadata": {},
     "output_type": "display_data"
    },
    {
     "name": "stdout",
     "output_type": "stream",
     "text": [
      "Confusion Matrix is\n",
      " [[216411  82692]\n",
      " [169825  70435]]\n"
     ]
    }
   ],
   "source": [
    "y_pred_GB = GBCModel.predict(X_test)\n",
    "CM_GB = confusion_matrix(y_test, y_pred_GB)\n",
    "\n",
    "sns.heatmap(CM_GB, center=True)\n",
    "plt.show()\n",
    "\n",
    "print('Confusion Matrix is\\n', CM_GB)"
   ]
  },
  {
   "cell_type": "raw",
   "id": "23e4ec5e",
   "metadata": {},
   "source": [
    "The VotingClassifier class from scikit-learn allows you to combine the predictions of multiple machine learning models.\n",
    "\n",
    "estimators: This is a list of tuples where each tuple contains a label for the estimator and the trained model instance. In your case, you have three estimators: GBCModel, RandomForestClassifierModel, and DecisionTreeClassifierModel.\n",
    "voting='hard': This parameter specifies that the final prediction is based on a majority vote of the individual models (hard voting). This means that each model in the ensemble casts a vote, and the class with the most votes is the final prediction."
   ]
  },
  {
   "cell_type": "code",
   "execution_count": 40,
   "id": "b480f548",
   "metadata": {
    "execution": {
     "iopub.execute_input": "2022-09-27T05:05:02.307896Z",
     "iopub.status.busy": "2022-09-27T05:05:02.307585Z",
     "iopub.status.idle": "2022-09-27T05:20:15.375159Z",
     "shell.execute_reply": "2022-09-27T05:20:15.374129Z"
    },
    "papermill": {
     "duration": 913.083343,
     "end_time": "2022-09-27T05:20:15.378103",
     "exception": false,
     "start_time": "2022-09-27T05:05:02.294760",
     "status": "completed"
    },
    "tags": []
   },
   "outputs": [
    {
     "name": "stdout",
     "output_type": "stream",
     "text": [
      "VotingClassifierModel Train Score is :  1.0\n",
      "VotingClassifierModel Test Score is :  0.5539775624208557\n"
     ]
    }
   ],
   "source": [
    "VotingClassifierModel = VotingClassifier(estimators=[('GBCModel',GBCModel),\n",
    "                                                     ('RFCModel',RandomForestClassifierModel),\n",
    "                                                     ('TDCModel',DecisionTreeClassifierModel)],\n",
    "                                         voting='hard')\n",
    "VotingClassifierModel.fit(X_train, y_train)\n",
    "print('VotingClassifierModel Train Score is : ' , VotingClassifierModel.score(X_train, y_train))\n",
    "print('VotingClassifierModel Test Score is : ' , VotingClassifierModel.score(X_test, y_test))"
   ]
  },
  {
   "cell_type": "code",
   "execution_count": 41,
   "id": "bbf799c4",
   "metadata": {
    "execution": {
     "iopub.execute_input": "2022-09-27T05:20:15.405765Z",
     "iopub.status.busy": "2022-09-27T05:20:15.404146Z",
     "iopub.status.idle": "2022-09-27T05:20:22.128556Z",
     "shell.execute_reply": "2022-09-27T05:20:22.127600Z"
    },
    "papermill": {
     "duration": 6.740048,
     "end_time": "2022-09-27T05:20:22.131398",
     "exception": false,
     "start_time": "2022-09-27T05:20:15.391350",
     "status": "completed"
    },
    "tags": []
   },
   "outputs": [
    {
     "data": {
      "image/png": "[encoded data removed]",
      "text/plain": [
       "<Figure size 640x480 with 2 Axes>"
      ]
     },
     "metadata": {},
     "output_type": "display_data"
    },
    {
     "name": "stdout",
     "output_type": "stream",
     "text": [
      "Confusion Matrix is\n",
      " [[277143  21960]\n",
      " [218608  21652]]\n"
     ]
    }
   ],
   "source": [
    "y_pred_V = VotingClassifierModel.predict(X_test)\n",
    "CM_V = confusion_matrix(y_test, y_pred_V)\n",
    "sns.heatmap(CM_V, center=True)\n",
    "plt.show()\n",
    "print('Confusion Matrix is\\n', CM_V)"
   ]
  }
 ],
 "metadata": {
  "kernelspec": {
   "display_name": "Python 3 (ipykernel)",
   "language": "python",
   "name": "python3"
  },
  "language_info": {
   "codemirror_mode": {
    "name": "ipython",
    "version": 3
   },
   "file_extension": ".py",
   "mimetype": "text/x-python",
   "name": "python",
   "nbconvert_exporter": "python",
   "pygments_lexer": "ipython3",
   "version": "3.11.5"
  },
  "papermill": {
   "default_parameters": {},
   "duration": 1941.229117,
   "end_time": "2022-09-27T05:20:25.499407",
   "environment_variables": {},
   "exception": null,
   "input_path": "__notebook__.ipynb",
   "output_path": "__notebook__.ipynb",
   "parameters": {},
   "start_time": "2022-09-27T04:48:04.270290",
   "version": "2.3.4"
  }
 },
 "nbformat": 4,
 "nbformat_minor": 5
}
